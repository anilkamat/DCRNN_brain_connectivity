{
 "cells": [
  {
   "cell_type": "markdown",
   "metadata": {
    "id": "aH96qMaSanMb"
   },
   "source": [
    "## Demo version for Google Colab"
   ]
  },
  {
   "cell_type": "markdown",
   "metadata": {
    "id": "TdPJGlxjgzT3"
   },
   "source": [
    "Select GPU acceleration: Navigate to Edit → Notebook Settings → Hardware Accelerator: GPU "
   ]
  },
  {
   "cell_type": "code",
   "execution_count": 1,
   "metadata": {
    "colab": {
     "base_uri": "https://localhost:8080/"
    },
    "id": "GgQkgZUsRkSV",
    "outputId": "0caf7cad-82dc-4666-a2ea-a91438702b2f"
   },
   "outputs": [
    {
     "name": "stdout",
     "output_type": "stream",
     "text": [
      "`%tensorflow_version` only switches the major version: 1.x or 2.x.\n",
      "You set: `1.x  # Select tensorflow 1.15`. This will be interpreted as: `1.x`.\n",
      "\n",
      "\n",
      "TensorFlow 1.x selected.\n",
      "\n",
      "Tensorflow version: 1.15.2 \n",
      "\n",
      "fatal: destination path 'DCRNN_brain_connectivity' already exists and is not an empty directory.\n",
      "/content/DCRNN_brain_connectivity\n",
      "Mon Nov 29 14:10:53 2021       \n",
      "+-----------------------------------------------------------------------------+\n",
      "| NVIDIA-SMI 495.44       Driver Version: 460.32.03    CUDA Version: 11.2     |\n",
      "|-------------------------------+----------------------+----------------------+\n",
      "| GPU  Name        Persistence-M| Bus-Id        Disp.A | Volatile Uncorr. ECC |\n",
      "| Fan  Temp  Perf  Pwr:Usage/Cap|         Memory-Usage | GPU-Util  Compute M. |\n",
      "|                               |                      |               MIG M. |\n",
      "|===============================+======================+======================|\n",
      "|   0  Tesla K80           Off  | 00000000:00:04.0 Off |                    0 |\n",
      "| N/A   73C    P8    35W / 149W |      0MiB / 11441MiB |      0%      Default |\n",
      "|                               |                      |                  N/A |\n",
      "+-------------------------------+----------------------+----------------------+\n",
      "                                                                               \n",
      "+-----------------------------------------------------------------------------+\n",
      "| Processes:                                                                  |\n",
      "|  GPU   GI   CI        PID   Type   Process name                  GPU Memory |\n",
      "|        ID   ID                                                   Usage      |\n",
      "|=============================================================================|\n",
      "|  No running processes found                                                 |\n",
      "+-----------------------------------------------------------------------------+\n"
     ]
    }
   ],
   "source": [
    "%tensorflow_version 1.x  # Select tensorflow 1.15\n",
    "import tensorflow as tf\n",
    "print('\\nTensorflow version: {} \\n'.format(tf.__version__))\n",
    "\n",
    "save_in_gdrive = False   # Set to True to save results to Google drive.\n",
    "# Mount google drive directory.\n",
    "if save_in_gdrive == True:\n",
    "    from google.colab import drive                     \n",
    "    drive.mount('/content/drive', force_remount=True)  \n",
    "    %cd /content/drive/'My Drive'/'Colab Notebooks'    \n",
    "\n",
    "# Clone repository.\n",
    "!git clone https://github.com/simonvino/DCRNN_brain_connectivity.git\n",
    "%cd ./DCRNN_brain_connectivity/ \n",
    "\n",
    "# Select GPU: navigate to Edit → Notebook Settings → Hardware Accelerator: select GPU  \n",
    "!nvidia-smi  # Check if GPU is used."
   ]
  },
  {
   "cell_type": "markdown",
   "metadata": {
    "id": "2hTtKSZ2aWve"
   },
   "source": [
    "### Generate training data samples"
   ]
  },
  {
   "cell_type": "code",
   "execution_count": 2,
   "metadata": {
    "colab": {
     "base_uri": "https://localhost:8080/"
    },
    "id": "5-2LU627WAJq",
    "outputId": "bed2d06a-7b17-4133-c4b8-7db483e0ed97"
   },
   "outputs": [
    {
     "name": "stdout",
     "output_type": "stream",
     "text": [
      "Generating training data.\n",
      "Load: ./MRI_data/fMRI_sessions/session_1/artificial_timeseries_sub_1.txt\n",
      "Load: ./MRI_data/fMRI_sessions/session_1/artificial_timeseries_sub_2.txt\n",
      "Load: ./MRI_data/fMRI_sessions/session_1/artificial_timeseries_sub_3.txt\n",
      "Load: ./MRI_data/fMRI_sessions/session_1/artificial_timeseries_sub_4.txt\n",
      "Load: ./MRI_data/fMRI_sessions/session_1/artificial_timeseries_sub_5.txt\n",
      "Load: ./MRI_data/fMRI_sessions/session_1/artificial_timeseries_sub_6.txt\n",
      "Load: ./MRI_data/fMRI_sessions/session_1/artificial_timeseries_sub_7.txt\n",
      "Load: ./MRI_data/fMRI_sessions/session_1/artificial_timeseries_sub_8.txt\n",
      "Load: ./MRI_data/fMRI_sessions/session_1/artificial_timeseries_sub_9.txt\n",
      "Load: ./MRI_data/fMRI_sessions/session_1/artificial_timeseries_sub_10.txt\n",
      "Load: ./MRI_data/fMRI_sessions/session_2/artificial_timeseries_sub_1.txt\n",
      "Load: ./MRI_data/fMRI_sessions/session_2/artificial_timeseries_sub_2.txt\n",
      "Load: ./MRI_data/fMRI_sessions/session_2/artificial_timeseries_sub_3.txt\n",
      "Load: ./MRI_data/fMRI_sessions/session_2/artificial_timeseries_sub_4.txt\n",
      "Load: ./MRI_data/fMRI_sessions/session_2/artificial_timeseries_sub_5.txt\n",
      "Load: ./MRI_data/fMRI_sessions/session_2/artificial_timeseries_sub_6.txt\n",
      "Load: ./MRI_data/fMRI_sessions/session_2/artificial_timeseries_sub_7.txt\n",
      "Load: ./MRI_data/fMRI_sessions/session_2/artificial_timeseries_sub_8.txt\n",
      "Load: ./MRI_data/fMRI_sessions/session_2/artificial_timeseries_sub_9.txt\n",
      "Load: ./MRI_data/fMRI_sessions/session_2/artificial_timeseries_sub_10.txt\n",
      "### SAMPLES ###\n",
      "Using 2 sessions from 10 subjects.\n",
      "Per session:   353 training samples,    44 validation samples,    44 testing samples.\n",
      "In total:     7060 training samples,   880 validation samples,   880 testing samples.\n",
      "### SAVE DATA ###\n",
      "Save in: ./MRI_data/training_samples\n",
      "train x:  (7060, 30, 90, 1) y: (7060, 30, 90, 1)\n",
      "val x:  (880, 30, 90, 1) y: (880, 30, 90, 1)\n",
      "test x:  (880, 30, 90, 1) y: (880, 30, 90, 1)\n",
      "Done.\n"
     ]
    }
   ],
   "source": [
    "!python generate_samples.py --input_dir=./MRI_data/fMRI_sessions/ --output_dir=./MRI_data/training_samples"
   ]
  },
  {
   "cell_type": "markdown",
   "metadata": {
    "id": "dQol8RmTab1v"
   },
   "source": [
    "### Train model"
   ]
  },
  {
   "cell_type": "code",
   "execution_count": null,
   "metadata": {
    "id": "imKeqfaGVVKM"
   },
   "outputs": [],
   "source": [
    "# Train model.\n",
    "!python dcrnn_for_brain_connectivity_train.py --config_filename=./configs/dcrnn_demo_config.yaml --save_predictions=True"
   ]
  }
 ],
 "metadata": {
  "accelerator": "GPU",
  "colab": {
   "collapsed_sections": [],
   "name": "dcrnn_for_brain_connectivity_colab_demo.ipynb",
   "provenance": []
  },
  "kernelspec": {
   "display_name": "Python 3",
   "language": "python",
   "name": "python3"
  },
  "language_info": {
   "codemirror_mode": {
    "name": "ipython",
    "version": 3
   },
   "file_extension": ".py",
   "mimetype": "text/x-python",
   "name": "python",
   "nbconvert_exporter": "python",
   "pygments_lexer": "ipython3",
   "version": "3.7.8"
  }
 },
 "nbformat": 4,
 "nbformat_minor": 4
}
